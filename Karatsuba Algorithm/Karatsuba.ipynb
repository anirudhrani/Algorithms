{
 "cells": [
  {
   "cell_type": "markdown",
   "metadata": {},
   "source": [
    "# Karatsuba Algorithm"
   ]
  },
  {
   "cell_type": "markdown",
   "metadata": {},
   "source": [
    "### Multiplying 2 'n' digit numbers.  \n",
    "\n",
    "Any 2 n digit numbers can be decomposed as  \n",
    "x= (10^m)a + b  \n",
    "y= (10^m)c + d  \n",
    "where x and y are two n digit numbers and m is any positive integer less than n.\n",
    "  \n",
    "Multiplying x and y we get  \n",
    "x * y= (10^2m)ac + (10^m)(ad+bc) + bd  \n",
    "  \n",
    "Let ac= c1 ; (ad + bc)= c2 ; bd= c3  \n",
    "  \n",
    "Ths suggests a recursive approach to multiplication as this method itself involves multiplication.\n",
    "  \n",
    "### Finding (ad + bc)\n",
    "To find this sum simply subtract ac and bd from (a + b)(c + d) i.e.  \n",
    "[(a + b)(c + d)] - ac - bd"
   ]
  },
  {
   "cell_type": "code",
   "execution_count": 1,
   "metadata": {},
   "outputs": [],
   "source": [
    "import math\n",
    "from math import log10"
   ]
  },
  {
   "cell_type": "code",
   "execution_count": 2,
   "metadata": {},
   "outputs": [],
   "source": [
    "def karatsuba(x,y):\n",
    "    \n",
    "    # Step 1 Recursive base case\n",
    "    if x<10 or y<10:\n",
    "        return x*y\n",
    "    \n",
    "    # Step 2 Finding out the number of digits and rounding up\n",
    "    n= max( int(log10(x)+1), int(log10(y)+1) )\n",
    "    \n",
    "    n_2= int(math.ceil(n/2.0))\n",
    "    \n",
    "    # Step 3 Check if the number is odd. If odd then add 1\n",
    "    n= n if n%2 ==0 else n+1\n",
    "    \n",
    "    # Step 4 Splitting the input numbers\n",
    "    a, b= divmod(x, 10**n_2)\n",
    "    c, d= divmod(y, 10**n_2)\n",
    "    \n",
    "    # Step 5 Recursively calculate ac, bd and (bc+ad)\n",
    "    ac= karatsuba(a, c)\n",
    "    bd= karatsuba(b, d)\n",
    "    ad_bc= karatsuba((a+b), (c+d))- ac- bd\n",
    "    \n",
    "    # Step 6 Perform the multiplication\n",
    "    return (((10**n)*ac)+ bd+ ((10**n_2)*(ad_bc)))\n",
    "    "
   ]
  },
  {
   "cell_type": "code",
   "execution_count": 6,
   "metadata": {},
   "outputs": [
    {
     "name": "stdout",
     "output_type": "stream",
     "text": [
      "Product:-  14584096\n"
     ]
    }
   ],
   "source": [
    "mul= karatsuba(4624, 3154)\n",
    "print('Product:- ', mul)"
   ]
  },
  {
   "cell_type": "code",
   "execution_count": null,
   "metadata": {},
   "outputs": [],
   "source": []
  }
 ],
 "metadata": {
  "kernelspec": {
   "display_name": "Python 3",
   "language": "python",
   "name": "python3"
  },
  "language_info": {
   "codemirror_mode": {
    "name": "ipython",
    "version": 3
   },
   "file_extension": ".py",
   "mimetype": "text/x-python",
   "name": "python",
   "nbconvert_exporter": "python",
   "pygments_lexer": "ipython3",
   "version": "3.7.6"
  }
 },
 "nbformat": 4,
 "nbformat_minor": 4
}
