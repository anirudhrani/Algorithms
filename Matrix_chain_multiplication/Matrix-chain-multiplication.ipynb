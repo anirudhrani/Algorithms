{
 "cells": [
  {
   "cell_type": "markdown",
   "metadata": {},
   "source": [
    "# Matrix Chain Multiplication Problem"
   ]
  },
  {
   "cell_type": "markdown",
   "metadata": {},
   "source": [
    "There are 3 matrices A, B, C. There are many possible choices to compute the multiplication of these 3 matrices. Considering, the associative rule i.e. (AB)C= A(BC). Assume that the size of matrix A is 20 * 30, B is 30 * 45 and C is 45 * 50. There are 2 possibilities for multiplying these matrices. \n",
    "1. AB(C)\n",
    "2. A(BC)\n",
    "\n",
    "Aim:- To find out the possibility which computes the product with least number of multiplications."
   ]
  },
  {
   "cell_type": "code",
   "execution_count": 21,
   "metadata": {},
   "outputs": [],
   "source": [
    "import sys"
   ]
  },
  {
   "cell_type": "markdown",
   "metadata": {},
   "source": [
    "### Finding Minimum Computations"
   ]
  },
  {
   "cell_type": "code",
   "execution_count": 22,
   "metadata": {},
   "outputs": [],
   "source": [
    "def MatrixChain(mat, i, j):\n",
    "    \n",
    "    if i==j:\n",
    "        return 0\n",
    "    min_computations= sys.maxsize\n",
    "    for k in range(i, j):\n",
    "        count= (MatrixChain(mat, i, k) + MatrixChain(mat, k+1, j) + mat[i-1] * mat[k] * mat[j])\n",
    "        if count< min_computations:\n",
    "            min_computations=count\n",
    "    return min_computations\n",
    "            "
   ]
  },
  {
   "cell_type": "code",
   "execution_count": 23,
   "metadata": {},
   "outputs": [
    {
     "name": "stdout",
     "output_type": "stream",
     "text": [
      "Minimum multiplications are:-  72000\n"
     ]
    }
   ],
   "source": [
    "mat_size= [20,30,45,50]\n",
    "l= len(mat_size)\n",
    "print('Minimum multiplications are:- ', MatrixChain(mat_size, 1, l-1))"
   ]
  },
  {
   "cell_type": "markdown",
   "metadata": {},
   "source": [
    "### Finding Maximum Computaions"
   ]
  },
  {
   "cell_type": "code",
   "execution_count": 24,
   "metadata": {},
   "outputs": [],
   "source": [
    "def MatrixChain(mat, i, j):\n",
    "    \n",
    "    if i==j:\n",
    "        return 0\n",
    "    min_computations= sys.maxsize\n",
    "    for k in range(i, j):\n",
    "        count= (MatrixChain(mat, i, k) + MatrixChain(mat, k+1, j) + mat[i-1] * mat[k] * mat[j])\n",
    "        if count< min_computations:\n",
    "            min_computations=count\n",
    "        return min_computations\n",
    "            "
   ]
  },
  {
   "cell_type": "code",
   "execution_count": 25,
   "metadata": {},
   "outputs": [
    {
     "name": "stdout",
     "output_type": "stream",
     "text": [
      "Maximum multiplications are:-  97500\n"
     ]
    }
   ],
   "source": [
    "mat_size= [20,30,45,50]\n",
    "l= len(mat_size)\n",
    "print('Maximum multiplications are:- ', MatrixChain(mat_size, 1, l-1))"
   ]
  },
  {
   "cell_type": "code",
   "execution_count": null,
   "metadata": {},
   "outputs": [],
   "source": []
  }
 ],
 "metadata": {
  "kernelspec": {
   "display_name": "Python 3",
   "language": "python",
   "name": "python3"
  },
  "language_info": {
   "codemirror_mode": {
    "name": "ipython",
    "version": 3
   },
   "file_extension": ".py",
   "mimetype": "text/x-python",
   "name": "python",
   "nbconvert_exporter": "python",
   "pygments_lexer": "ipython3",
   "version": "3.7.6"
  }
 },
 "nbformat": 4,
 "nbformat_minor": 4
}
